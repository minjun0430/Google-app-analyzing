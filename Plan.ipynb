{
 "cells": [
  {
   "cell_type": "markdown",
   "metadata": {},
   "source": [
    "### 계획"
   ]
  },
  {
   "cell_type": "markdown",
   "metadata": {},
   "source": [
    "* 모든 파일 출력\n",
    "* concat, info\n",
    "* 앱 종류 중에 가장 많은 종류 찾기\n",
    "* Nan값 0으로 바꾸기\n",
    "* 평점으로 상위 5개 찾기\n",
    "* 평점 대신 리뷰로 순위 계산\n",
    "* 관심있어하는 게임 장르\n",
    " - 상위 5개 원형그래프\n",
    "* 무료 전략 게임 순위 계산"
   ]
  },
  {
   "cell_type": "code",
   "execution_count": null,
   "metadata": {},
   "outputs": [],
   "source": []
  }
 ],
 "metadata": {
  "kernelspec": {
   "display_name": "Python 3",
   "language": "python",
   "name": "python3"
  },
  "language_info": {
   "codemirror_mode": {
    "name": "ipython",
    "version": 3
   },
   "file_extension": ".py",
   "mimetype": "text/x-python",
   "name": "python",
   "nbconvert_exporter": "python",
   "pygments_lexer": "ipython3",
   "version": "3.7.6"
  }
 },
 "nbformat": 4,
 "nbformat_minor": 4
}
